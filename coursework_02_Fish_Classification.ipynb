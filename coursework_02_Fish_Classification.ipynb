{
  "cells": [
    {
      "cell_type": "markdown",
      "metadata": {
        "id": "iz6Lp4f22AgC"
      },
      "source": [
        "# Coursework 2: Fish Classification\n",
        "\n",
        "Created by Athanasios Vlontzos and Wenjia Bai\n",
        "\n",
        "In this coursework, you will be exploring the application of convolutional neural networks for image classification tasks. As opposed to standard applications such as object or face classification, we will be dealing with a slightly different domain, fish classification for precision fishing.\n",
        "\n",
        "In precision fishing, engineers and fishmen collaborate to extract a wide variety of information about the fish, their species and wellbeing etc. using data from satellite images to drones surveying the fisheries. The goal of precision fishing is to provide the marine industry with information to support their decision making processes.\n",
        "\n",
        "Here your will develop an image classification model that can classify fish species given input images. It consists of two tasks. The first task is to train a model for the following species:\n",
        "- Black Sea Sprat\n",
        "- Gilt-Head Bream\n",
        "- Shrimp\n",
        "- Striped Red Mullet\n",
        "- Trout\n",
        "\n",
        "The second task is to finetune the last layer of the trained model to adapt to some new species, including:\n",
        "- Hourse Mackerel\n",
        "- Red Mullet\n",
        "- Red Sea Bream\n",
        "- Sea Bass\n",
        "\n",
        "You will be working using a large-scale fish dataset [1].\n",
        "\n",
        "[1] O. Ulucan, D. Karakaya and M. Turkan. A large-scale dataset for fish segmentation and classification. Innovations in Intelligent Systems and Applications Conference (ASYU). 2020."
      ]
    },
    {
      "cell_type": "markdown",
      "metadata": {
        "id": "1i1gOozZ2AgL"
      },
      "source": [
        "## Step 0: Download data.\n",
        "\n",
        "[Download the Data from here -- make sure you access it with your Imperial account.](https://imperiallondon-my.sharepoint.com/:f:/g/personal/av2514_ic_ac_uk/EkA9HyXVvgdFoLI4P_IfO1cBO_CsvY1KN4NE8iuD-s_VlA?e=Ip03rF)\n",
        "\n",
        "It is a ~2.5GB file. You can save the images and annotations directories in the same directory as this notebook or somewhere else.\n",
        "\n",
        "The fish dataset contains 9 species of fishes. There are 1,000 images for each fish species, named as %05d.png in each subdirectory."
      ]
    },
    {
      "cell_type": "markdown",
      "metadata": {
        "id": "zkS2veaA2AgN"
      },
      "source": [
        "## Step 1: Load the data. (15 Points)\n",
        "\n",
        "- Complete the dataset class with the skeleton below.\n",
        "- Add any transforms you feel are necessary.\n",
        "\n",
        "Your class should have at least 3 elements\n",
        "- An ```__init__``` function that sets up your class and all the necessary parameters.\n",
        "- An ```__len__``` function that returns the size of your dataset.\n",
        "- An ```__getitem__``` function that given an index within the limits of the size of the dataset returns the associated image and label in tensor form.\n",
        "\n",
        "You may add more helper functions if you want.\n",
        "\n",
        "In this section we are following the Pytorch [dataset](https://pytorch.org/vision/stable/datasets.html) class structure. You can take inspiration from their documentation."
      ]
    },
    {
      "cell_type": "code",
      "execution_count": null,
      "metadata": {
        "jupyter": {
          "outputs_hidden": false
        },
        "pycharm": {
          "name": "#%%\n"
        },
        "id": "u-cG2kCA2AgO"
      },
      "outputs": [],
      "source": [
        "# Dependencies\n",
        "import pandas as pd\n",
        "from torch.utils.data import Dataset, DataLoader\n",
        "from torchvision import transforms\n",
        "import os\n",
        "from PIL import Image\n",
        "import numpy as np\n",
        "from tqdm import tqdm\n",
        "import torch\n",
        "import torch.nn as nn\n",
        "import torch.nn.functional as F\n",
        "import matplotlib.pyplot as plt\n",
        "import glob\n"
      ]
    },
    {
      "cell_type": "code",
      "source": [
        "from google.colab import drive\n",
        "drive.mount('/content/drive')\n"
      ],
      "metadata": {
        "colab": {
          "base_uri": "https://localhost:8080/"
        },
        "id": "nNW-xtC7uKtN",
        "outputId": "6ba8cedc-e022-4471-f312-1c700ce730d4"
      },
      "execution_count": null,
      "outputs": [
        {
          "output_type": "stream",
          "name": "stdout",
          "text": [
            "Mounted at /content/drive\n"
          ]
        }
      ]
    },
    {
      "cell_type": "code",
      "source": [
        "Multiclass_labels_correspondances = {\n",
        "    'Black Sea Sprat': 0,\n",
        "    'Gilt-Head Bream': 1,\n",
        "    'Shrimp': 2,\n",
        "    'Striped Red Mullet': 3,\n",
        "    'Trout': 4\n",
        "}\n",
        "\n",
        "classes = []\n",
        "\n",
        "for i in Multiclass_labels_correspondances:\n",
        "  classes.append(i)\n",
        "  \n",
        "print(classes)"
      ],
      "metadata": {
        "colab": {
          "base_uri": "https://localhost:8080/"
        },
        "id": "AoXrlm_tidJU",
        "outputId": "0c750b60-136c-4106-8793-da743756b917"
      },
      "execution_count": null,
      "outputs": [
        {
          "output_type": "stream",
          "name": "stdout",
          "text": [
            "['Black Sea Sprat', 'Gilt-Head Bream', 'Shrimp', 'Striped Red Mullet', 'Trout']\n"
          ]
        }
      ]
    },
    {
      "cell_type": "code",
      "execution_count": null,
      "metadata": {
        "jupyter": {
          "outputs_hidden": false
        },
        "pycharm": {
          "name": "#%%\n"
        },
        "id": "xGDE8f-R2AgR",
        "colab": {
          "base_uri": "https://localhost:8080/"
        },
        "outputId": "c2c799e1-8448-4045-8a01-498629867e29"
      },
      "outputs": [
        {
          "output_type": "stream",
          "name": "stdout",
          "text": [
            "(4000,)\n",
            "(1000,)\n"
          ]
        }
      ],
      "source": [
        "# We will start by building a dataset class using the following 5 species of fishes\n",
        "\n",
        "\n",
        "# The 5 species will contain 5,000 images in total.\n",
        "# Let us split the 5,000 images into training (80%) and test (20%) sets\n",
        "def split_train_test(lendata, percentage=0.8):\n",
        "    #### ADD YOUR CODE HERE ####\n",
        "    dataset = np.arange(lendata)\n",
        "    train_no = int(percentage * lendata)\n",
        "    idxs_train = np.random.choice(lendata, train_no, replace=False)\n",
        "    idxs_test = np.delete(dataset, idxs_train)\n",
        "    print(idxs_train.shape)\n",
        "    print(idxs_test.shape)\n",
        "    return idxs_train, idxs_test\n",
        "\n",
        "LENDATA = 5000\n",
        "np.random.seed(42)\n",
        "idxs_train, idxs_test = split_train_test(LENDATA,0.8)\n",
        "\n",
        "# Implement the dataset class\n",
        "class FishDataset(Dataset):\n",
        "    def __init__(self,\n",
        "                 path_to_images,\n",
        "                 idxs_train,\n",
        "                 idxs_test,\n",
        "                 transform_extra=None,\n",
        "                 img_size=128,\n",
        "                 train=True):\n",
        "        # path_to_images: where you put the fish dataset\n",
        "        # idxs_train: training set indexes\n",
        "        # idxs_test: test set indexes\n",
        "        # transform_extra: extra data transform\n",
        "        # img_size: resize all images to a standard size\n",
        "        # train: return training set or test set\n",
        "        \n",
        "        # Load all the images and their labels\n",
        "        #### ADD YOUR CODE HERE ####\n",
        "        # 'Black Sea Sprat': 0,\n",
        "        # 'Gilt-Head Bream': 1,\n",
        "        # 'Shrimp': 2,\n",
        "        # 'Striped Red Mullet': 3,\n",
        "        # 'Trout': 4\n",
        "\n",
        "        image_list = []\n",
        "        labels = []\n",
        "\n",
        "        # classes = ['Black Sea Sprat' , 'Gilt-Head Bream' , 'Shrimp' , 'Striped Red Mullet' , 'Trout']\n",
        "        for c in classes:\n",
        "          newpath = path_to_images + c\n",
        "          for filename in glob.glob(newpath + '/*.png') :\n",
        "            image = Image.open(filename)\n",
        "            image = image.resize((img_size,img_size), Image.ANTIALIAS)\n",
        "            tf = transforms.ToTensor()\n",
        "            img_tensor = tf(image)\n",
        "            image_list.append(img_tensor)             #(np.array(image))\n",
        "            if c == 'Black Sea Sprat' :\n",
        "              labels.append(0)\n",
        "            elif c == 'Gilt-Head Bream' :\n",
        "              labels.append(1)\n",
        "            elif c == 'Shrimp' :\n",
        "              labels.append(2)\n",
        "            elif c == 'Striped Red Mullet' :\n",
        "              labels.append(3)\n",
        "            elif c == 'Trout' :\n",
        "              labels.append(4)\n",
        "\n",
        "        np.random.seed(1234)\n",
        "        image_list = np.asarray(image_list)\n",
        "        labels = np.asarray(labels)     \n",
        "\n",
        "\n",
        "\n",
        "        \n",
        "        # Resize all images to a standard size\n",
        "        #### ADD YOUR CODE HERE ####\n",
        "\n",
        "        #image_list /= 255\n",
        "\n",
        "        \n",
        "        \n",
        "\n",
        "\n",
        "        # Extract the images and labels with the specified file indexes      \n",
        "        #### ADD YOUR CODE HERE ####\n",
        "        X_train, X_test = image_list[idxs_train], image_list[idxs_test]\n",
        "        Y_train, Y_test = labels[idxs_train], labels[idxs_test]\n",
        "\n",
        "        self.Y_train = Y_train\n",
        "        self.X_train = X_train\n",
        "        self.Y_test = Y_test\n",
        "        self.X_test = X_test\n",
        "        self.idxs_train = idxs_train\n",
        "        self.idxs_test = idxs_test\n",
        "\n",
        "        self.transform_extra = transform_extra\n",
        "        self.train = train\n",
        "\n",
        "  \n",
        "\n",
        "\n",
        "        # raise NotImplemented\n",
        "        \n",
        "    def __len__(self):\n",
        "        # Return the number of samples\n",
        "        #### ADD YOUR CODE HERE ####\n",
        "        if self.train == True:\n",
        "          return len(self.X_train)\n",
        "        else:\n",
        "          return len(self.X_test)\n",
        "\n",
        "        # raise NotImplemented\n",
        "        \n",
        "    def __getitem__(self, idx):\n",
        "        # Get an item using its index\n",
        "        # Return the image and its label\n",
        "        #### ADD YOUR CODE HERE ####\n",
        "        if self.train == True :\n",
        "          return self.X_train[idx] , self.Y_train[idx]\n",
        "        else :\n",
        "          return self.X_test[idx] , self.Y_test[idx]\n",
        "        \n",
        "        # image = self.data.iloc[index, 1:].values.astype(np.uint8).reshape((1, 28, 28))\n",
        "        # label = self.data.iloc[index, 0]\n",
        "        \n",
        "        # if self.transform_extra is not None:\n",
        "        #     image = self.transform(image)\n",
        "            \n",
        "        # return image, label\n",
        "\n",
        "        \n",
        "        # raise NotImplemented"
      ]
    },
    {
      "cell_type": "markdown",
      "metadata": {
        "id": "m-hf4csN2AgU"
      },
      "source": [
        "## Step 2: Explore the data. (15 Points)\n",
        "\n",
        "### Step 2.1: Data visualisation. (5 points)\n",
        "\n",
        "- Plot data distribution, i.e. the number of samples per class.\n",
        "- Plot 1 sample from each of the five classes in the training set."
      ]
    },
    {
      "cell_type": "code",
      "execution_count": null,
      "metadata": {
        "jupyter": {
          "outputs_hidden": false
        },
        "pycharm": {
          "name": "#%%\n"
        },
        "id": "FEF6dMmf2AgV",
        "colab": {
          "base_uri": "https://localhost:8080/"
        },
        "outputId": "b3637985-303a-4a97-a14a-b0e90b53ae6b"
      },
      "outputs": [
        {
          "output_type": "stream",
          "name": "stdout",
          "text": [
            "(4000,)\n"
          ]
        },
        {
          "output_type": "stream",
          "name": "stderr",
          "text": [
            "/usr/local/lib/python3.7/dist-packages/ipykernel_launcher.py:73: FutureWarning: The input object of type 'Tensor' is an array-like implementing one of the corresponding protocols (`__array__`, `__array_interface__` or `__array_struct__`); but not a sequence (or 0-D). In the future, this object will be coerced as if it was first converted using `np.array(obj)`. To retain the old behaviour, you have to either modify the type 'Tensor', or assign to an empty array created with `np.empty(correct_shape, dtype=object)`.\n",
            "/usr/local/lib/python3.7/dist-packages/ipykernel_launcher.py:73: VisibleDeprecationWarning: Creating an ndarray from ragged nested sequences (which is a list-or-tuple of lists-or-tuples-or ndarrays with different lengths or shapes) is deprecated. If you meant to do this, you must specify 'dtype=object' when creating the ndarray.\n"
          ]
        }
      ],
      "source": [
        "# Training set\n",
        "img_path = './Fish_Dataset/'\n",
        "dataset = FishDataset(img_path, idxs_train, idxs_test, None, img_size=128, train=True)\n"
      ]
    },
    {
      "cell_type": "code",
      "source": [
        "# Plot the number of samples per class\n",
        "#### ADD YOUR CODE HERE ####\n",
        "\n",
        "countingstrs = []\n",
        "\n",
        "for i in range(5):\n",
        "  count = np.count_nonzero(dataset.Y_train == i)\n",
        "  countingstrs.append(count)\n",
        "\n",
        "countingstrs = np.asarray(countingstrs)\n",
        "classes = ['BlackSeaSprat', 'Gilt-HeadBream', 'Shrimp', 'StripedRedMullet', 'Trout']\n",
        "\n",
        "plt.bar(classes, countingstrs, align='center', alpha=0.5)\n",
        "plt.ylabel('count')\n",
        "plt.title('Number of samples per class')\n",
        "\n",
        "plt.show()\n",
        "\n",
        "\n",
        "\n",
        "# Plot 1 sample from each of the five classes in the training set\n",
        "#### ADD YOUR CODE HERE ####\n",
        "\n",
        "num=0\n",
        "index_picker = []\n",
        "\n",
        "for num in range(5):\n",
        "  for index in dataset.idxs_train:\n",
        "      if dataset.Y_train[index]==num: \n",
        "          index_picker.append(index)\n",
        "          break\n",
        "print(index_picker)\n",
        "\n",
        "plt.figure\n",
        "c_index = 0\n",
        "for i in index_picker:\n",
        "    plt.subplot(2,3,c_index + 1)\n",
        "    to_pil = transforms.ToPILImage()\n",
        "    training_data = to_pil(dataset.X_train[i])      #.transpose(1,2,0)\n",
        "    plt.imshow(training_data,cmap='gray')\n",
        "    plt.title(classes[c_index])\n",
        "    c_index += 1"
      ],
      "metadata": {
        "colab": {
          "base_uri": "https://localhost:8080/",
          "height": 563
        },
        "id": "GjStVe7U6HGh",
        "outputId": "a9ec9022-81d7-47ac-b8e9-5b4fec7977d1"
      },
      "execution_count": null,
      "outputs": [
        {
          "output_type": "display_data",
          "data": {
            "image/png": "[encoded data removed]",
            "text/plain": [
              "<Figure size 432x288 with 1 Axes>"
            ]
          },
          "metadata": {
            "needs_background": "light"
          }
        },
        {
          "output_type": "stream",
          "name": "stdout",
          "text": [
            "[2653, 2586, 1501, 2468, 705]\n"
          ]
        },
        {
          "output_type": "display_data",
          "data": {
            "image/png": "[encoded data removed]",
            "text/plain": [
              "<Figure size 432x288 with 5 Axes>"
            ]
          },
          "metadata": {
            "needs_background": "light"
          }
        }
      ]
    },
    {
      "cell_type": "markdown",
      "metadata": {
        "id": "uNFFGUOH2AgX"
      },
      "source": [
        "### Step 2.2: Discussion. (10 points)\n",
        "\n",
        "* Is the dataset balanced?\n",
        "\n",
        "* Can you think of 3 ways to make the dataset balanced if it is not?\n",
        "\n",
        "* Is the dataset already pre-processed? If yes, how?"
      ]
    },
    {
      "cell_type": "markdown",
      "metadata": {
        "id": "ckpkuEcr2AgY"
      },
      "source": [
        "#### The dataset is balanced, as the 5 classes have approixmately equal number of samples in the training set, at around 800. ####\n",
        "#### First, downsampling/upsampling of the datacan make the dataset balanced. Reducing the excessive number of samples in a certain class, or increasing the number of samples in a class in which samples are insufficient. ###\n",
        "#### Secondly , applying weights to classes can help to mitigate imbalanced data set.####\n",
        "#### Lastly, data augmentation allows us to artificially increase the number of samples from the existing samples for a class with insufficient samples. ####\n",
        "#### The dataset has been pre-processed as it has been reshaped in to 128 * 128 dimension. ####"
      ]
    },
    {
      "cell_type": "markdown",
      "metadata": {
        "id": "Ni3nCd-y2Aga"
      },
      "source": [
        "## Step 3: Multiclass classification. (55 points)\n",
        "In this section we will try to make a multiclass classifier to determine the species of the fish.\n",
        "\n",
        "### Step 3.1: Define the model. (15 points)\n",
        "\n",
        "Design a neural network which consists of a number of convolutional layers and a few fully connected ones at the end.\n",
        "\n",
        "The exact architecture is up to you but you do NOT need to create something complicated. For example, you could design a LeNet insprired network."
      ]
    },
    {
      "cell_type": "code",
      "execution_count": null,
      "metadata": {
        "jupyter": {
          "outputs_hidden": false
        },
        "pycharm": {
          "name": "#%%\n"
        },
        "id": "JcwU-VUa2Aga"
      },
      "outputs": [],
      "source": [
        "class Net(nn.Module):\n",
        "    def __init__(self, output_dims = 1):\n",
        "        super(Net, self).__init__()\n",
        "        #### ADD YOUR CODE HERE ####\n",
        "        # 1 input image channel, 6 output channels, 3x3 square convolution\n",
        "        # kernel\n",
        "        self.flatten = nn.Flatten()\n",
        "        self.conv1 = nn.Conv2d(in_channels = 3, out_channels = 6, kernel_size = (5,5), padding = 0, stride = 1)\n",
        "        self.conv2 = nn.Conv2d(in_channels = 6, out_channels = 16, kernel_size = (5,5), padding = 0, stride = 1)\n",
        "        self.conv3 = nn.Conv2d(in_channels = 16, out_channels = 120, kernel_size = (5,5), padding = 0, stride = 1)\n",
        "        #linear neurons\n",
        "        self.lin1 = nn.Linear(75000, 84)\n",
        "        self.lin2 = nn.Linear(84, 10)\n",
        "        #AvgPoolingLayer over (2,2)\n",
        "        self.pooling = nn.AvgPool2d(kernel_size = 2, stride = 2)\n",
        "        #activation function\n",
        "        self.activation = nn.Tanh()\n",
        "\n",
        "\n",
        "\n",
        "    def forward(self, x):\n",
        "        # Forward propagation\n",
        "        #### ADD YOUR CODE HERE ####\n",
        "      \n",
        "        x = self.conv1(x)\n",
        "        x = self.activation(x)\n",
        "        x = self.pooling(x)\n",
        "\n",
        "        x = self.conv2(x)\n",
        "        x = self.activation(x)\n",
        "        x = self.pooling(x)\n",
        "\n",
        "        x = self.conv3(x)\n",
        "        x = self.activation(x)\n",
        "\n",
        "        x = self.flatten(x)\n",
        "\n",
        "        x = self.lin1(x)\n",
        "        x = self.activation(x)\n",
        "        x = self.lin2(x)\n",
        "\n",
        "        return x\n",
        "\n",
        "# Since most of you use laptops, you may use CPU for training.\n",
        "# If you have a good GPU, you can set this to 'gpu'.\n",
        "device = 'cpu'\n",
        "\n"
      ]
    },
    {
      "cell_type": "markdown",
      "metadata": {
        "id": "J_TNUnXU2Agb"
      },
      "source": [
        "### Step 3.2: Define the training parameters. (10 points)\n",
        "\n",
        "- Loss function\n",
        "- Optimizer\n",
        "- Learning Rate\n",
        "- Number of iterations\n",
        "- Batch Size\n",
        "- Other relevant hyperparameters"
      ]
    },
    {
      "cell_type": "code",
      "execution_count": null,
      "metadata": {
        "jupyter": {
          "outputs_hidden": false
        },
        "pycharm": {
          "name": "#%%\n"
        },
        "id": "ziYw35012Agc",
        "colab": {
          "base_uri": "https://localhost:8080/"
        },
        "outputId": "7ee0020c-4c31-4137-d818-c8a9dc89ad35"
      },
      "outputs": [
        {
          "output_type": "stream",
          "name": "stderr",
          "text": [
            "/usr/local/lib/python3.7/dist-packages/ipykernel_launcher.py:73: FutureWarning: The input object of type 'Tensor' is an array-like implementing one of the corresponding protocols (`__array__`, `__array_interface__` or `__array_struct__`); but not a sequence (or 0-D). In the future, this object will be coerced as if it was first converted using `np.array(obj)`. To retain the old behaviour, you have to either modify the type 'Tensor', or assign to an empty array created with `np.empty(correct_shape, dtype=object)`.\n",
            "/usr/local/lib/python3.7/dist-packages/ipykernel_launcher.py:73: VisibleDeprecationWarning: Creating an ndarray from ragged nested sequences (which is a list-or-tuple of lists-or-tuples-or ndarrays with different lengths or shapes) is deprecated. If you meant to do this, you must specify 'dtype=object' when creating the ndarray.\n"
          ]
        }
      ],
      "source": [
        "# Network\n",
        "model = Net().to(device)\n",
        "\n",
        "\n",
        "# Loss function\n",
        "criterion = nn.CrossEntropyLoss()\n",
        "\n",
        "# Optimiser and learning rate\n",
        "lr = 0.0005\n",
        "optimizer = torch.optim.Adam(model.parameters(), lr)\n",
        "\n",
        "# Number of iterations for training\n",
        "epochs = 20\n",
        "\n",
        "# Training batch size\n",
        "train_batch_size = 64\n",
        "\n",
        "# Based on the FishDataset, use the PyTorch DataLoader to load the data during model training\n",
        "train_dataset = FishDataset(img_path, idxs_train, idxs_test, None, img_size=128, train=True)\n",
        "train_dataloader = torch.utils.data.DataLoader(train_dataset, train_batch_size, shuffle=True)\n",
        "test_dataset = FishDataset(img_path, idxs_train, idxs_test, None, img_size=128, train=False)\n",
        "test_dataloader = torch.utils.data.DataLoader(test_dataset, batch_size=64, shuffle=True)"
      ]
    },
    {
      "cell_type": "markdown",
      "metadata": {
        "id": "lfrnKj5W2Agd"
      },
      "source": [
        "### Step 3.3: Train the model. (15 points)\n",
        "\n",
        "Complete the training loop."
      ]
    },
    {
      "cell_type": "code",
      "execution_count": null,
      "metadata": {
        "jupyter": {
          "outputs_hidden": false
        },
        "pycharm": {
          "name": "#%%\n"
        },
        "id": "We64RTXE2Agd",
        "colab": {
          "base_uri": "https://localhost:8080/"
        },
        "outputId": "29536def-c488-4d16-c80b-47c112808254"
      },
      "outputs": [
        {
          "output_type": "stream",
          "name": "stderr",
          "text": [
            "  5%|▌         | 1/20 [00:38<12:02, 38.04s/it]"
          ]
        },
        {
          "output_type": "stream",
          "name": "stdout",
          "text": [
            "--- Iteration 1: training loss = 0.9100 ---\n"
          ]
        },
        {
          "output_type": "stream",
          "name": "stderr",
          "text": [
            "\r 10%|█         | 2/20 [01:15<11:20, 37.79s/it]"
          ]
        },
        {
          "output_type": "stream",
          "name": "stdout",
          "text": [
            "--- Iteration 2: training loss = 0.7315 ---\n"
          ]
        },
        {
          "output_type": "stream",
          "name": "stderr",
          "text": [
            "\r 15%|█▌        | 3/20 [01:53<10:43, 37.87s/it]"
          ]
        },
        {
          "output_type": "stream",
          "name": "stdout",
          "text": [
            "--- Iteration 3: training loss = 0.6194 ---\n"
          ]
        },
        {
          "output_type": "stream",
          "name": "stderr",
          "text": [
            "\r 20%|██        | 4/20 [02:31<10:02, 37.68s/it]"
          ]
        },
        {
          "output_type": "stream",
          "name": "stdout",
          "text": [
            "--- Iteration 4: training loss = 0.5125 ---\n"
          ]
        },
        {
          "output_type": "stream",
          "name": "stderr",
          "text": [
            "\r 25%|██▌       | 5/20 [03:07<09:21, 37.42s/it]"
          ]
        },
        {
          "output_type": "stream",
          "name": "stdout",
          "text": [
            "--- Iteration 5: training loss = 0.4363 ---\n"
          ]
        },
        {
          "output_type": "stream",
          "name": "stderr",
          "text": [
            "\r 30%|███       | 6/20 [03:44<08:41, 37.23s/it]"
          ]
        },
        {
          "output_type": "stream",
          "name": "stdout",
          "text": [
            "--- Iteration 6: training loss = 0.3741 ---\n"
          ]
        },
        {
          "output_type": "stream",
          "name": "stderr",
          "text": [
            "\r 35%|███▌      | 7/20 [04:22<08:04, 37.25s/it]"
          ]
        },
        {
          "output_type": "stream",
          "name": "stdout",
          "text": [
            "--- Iteration 7: training loss = 0.2914 ---\n"
          ]
        },
        {
          "output_type": "stream",
          "name": "stderr",
          "text": [
            "\r 40%|████      | 8/20 [04:59<07:25, 37.16s/it]"
          ]
        },
        {
          "output_type": "stream",
          "name": "stdout",
          "text": [
            "--- Iteration 8: training loss = 0.2458 ---\n"
          ]
        },
        {
          "output_type": "stream",
          "name": "stderr",
          "text": [
            "\r 45%|████▌     | 9/20 [05:36<06:48, 37.10s/it]"
          ]
        },
        {
          "output_type": "stream",
          "name": "stdout",
          "text": [
            "--- Iteration 9: training loss = 0.1949 ---\n"
          ]
        },
        {
          "output_type": "stream",
          "name": "stderr",
          "text": [
            "\r 50%|█████     | 10/20 [06:14<06:13, 37.40s/it]"
          ]
        },
        {
          "output_type": "stream",
          "name": "stdout",
          "text": [
            "--- Iteration 10: training loss = 0.1651 ---\n"
          ]
        },
        {
          "output_type": "stream",
          "name": "stderr",
          "text": [
            "\r 55%|█████▌    | 11/20 [06:51<05:35, 37.25s/it]"
          ]
        },
        {
          "output_type": "stream",
          "name": "stdout",
          "text": [
            "--- Iteration 11: training loss = 0.1354 ---\n"
          ]
        },
        {
          "output_type": "stream",
          "name": "stderr",
          "text": [
            "\r 60%|██████    | 12/20 [07:29<05:01, 37.64s/it]"
          ]
        },
        {
          "output_type": "stream",
          "name": "stdout",
          "text": [
            "--- Iteration 12: training loss = 0.1049 ---\n"
          ]
        },
        {
          "output_type": "stream",
          "name": "stderr",
          "text": [
            "\r 65%|██████▌   | 13/20 [08:07<04:23, 37.63s/it]"
          ]
        },
        {
          "output_type": "stream",
          "name": "stdout",
          "text": [
            "--- Iteration 13: training loss = 0.0796 ---\n"
          ]
        },
        {
          "output_type": "stream",
          "name": "stderr",
          "text": [
            "\r 70%|███████   | 14/20 [08:44<03:44, 37.41s/it]"
          ]
        },
        {
          "output_type": "stream",
          "name": "stdout",
          "text": [
            "--- Iteration 14: training loss = 0.0618 ---\n"
          ]
        },
        {
          "output_type": "stream",
          "name": "stderr",
          "text": [
            "\r 75%|███████▌  | 15/20 [09:21<03:06, 37.27s/it]"
          ]
        },
        {
          "output_type": "stream",
          "name": "stdout",
          "text": [
            "--- Iteration 15: training loss = 0.0508 ---\n"
          ]
        },
        {
          "output_type": "stream",
          "name": "stderr",
          "text": [
            "\r 80%|████████  | 16/20 [09:58<02:28, 37.19s/it]"
          ]
        },
        {
          "output_type": "stream",
          "name": "stdout",
          "text": [
            "--- Iteration 16: training loss = 0.0419 ---\n"
          ]
        },
        {
          "output_type": "stream",
          "name": "stderr",
          "text": [
            "\r 85%|████████▌ | 17/20 [10:35<01:51, 37.28s/it]"
          ]
        },
        {
          "output_type": "stream",
          "name": "stdout",
          "text": [
            "--- Iteration 17: training loss = 0.0365 ---\n"
          ]
        },
        {
          "output_type": "stream",
          "name": "stderr",
          "text": [
            "\r 90%|█████████ | 18/20 [11:12<01:14, 37.25s/it]"
          ]
        },
        {
          "output_type": "stream",
          "name": "stdout",
          "text": [
            "--- Iteration 18: training loss = 0.0315 ---\n"
          ]
        },
        {
          "output_type": "stream",
          "name": "stderr",
          "text": [
            "\r 95%|█████████▌| 19/20 [11:49<00:37, 37.22s/it]"
          ]
        },
        {
          "output_type": "stream",
          "name": "stdout",
          "text": [
            "--- Iteration 19: training loss = 0.0269 ---\n"
          ]
        },
        {
          "output_type": "stream",
          "name": "stderr",
          "text": [
            "100%|██████████| 20/20 [12:27<00:00, 37.38s/it]"
          ]
        },
        {
          "output_type": "stream",
          "name": "stdout",
          "text": [
            "--- Iteration 20: training loss = 0.0234 ---\n"
          ]
        },
        {
          "output_type": "stream",
          "name": "stderr",
          "text": [
            "\n"
          ]
        }
      ],
      "source": [
        "for epoch in tqdm(range(epochs)):\n",
        "    model.train()\n",
        "    loss_curve = []\n",
        "    \n",
        "    for imgs, labs in train_dataloader:\n",
        "        # Get a batch of training data and train the model\n",
        "        #### ADD YOUR CODE HERE ####\n",
        "        imgs = imgs.to(device)\n",
        "        labs = labs.to(device)\n",
        "\n",
        "        #forward pass\n",
        "        output = model(imgs)\n",
        "        loss = criterion(output, labs)\n",
        "\n",
        "        #backward, optimise\n",
        "        optimizer.zero_grad()\n",
        "        loss.backward()\n",
        "        optimizer.step()\n",
        "       \n",
        "        loss_curve += [loss.item()]\n",
        "    print('--- Iteration {0}: training loss = {1:.4f} ---'.format(epoch + 1, np.array(loss_curve).mean()))"
      ]
    },
    {
      "cell_type": "markdown",
      "metadata": {
        "id": "PHNNcbv82Age"
      },
      "source": [
        "### Step 3.4: Deploy the trained model onto the test set. (10 points)"
      ]
    },
    {
      "cell_type": "code",
      "execution_count": null,
      "metadata": {
        "jupyter": {
          "outputs_hidden": false
        },
        "pycharm": {
          "name": "#%%\n"
        },
        "id": "qO_lxT3S2Agf"
      },
      "outputs": [],
      "source": [
        "# Deploy the model\n",
        "#### ADD YOUR CODE HERE ####\n",
        "with torch.no_grad():\n",
        "    correct = 0\n",
        "    total = 0\n",
        "    for imgs, labs in test_dataloader:\n",
        "        imgs = imgs.to(device)\n",
        "        labs = labs.to(device)\n",
        "        output = model(imgs)\n",
        "        optimizer.zero_grad()\n",
        "        loss = criterion(output, labs)\n",
        "        "
      ]
    },
    {
      "cell_type": "markdown",
      "metadata": {
        "id": "qgvkw1Cm2Agf"
      },
      "source": [
        "### Step 3.5: Evaluate the performance of the model and visualize the confusion matrix. (5 points)\n",
        "\n",
        "You can use sklearns related function."
      ]
    },
    {
      "cell_type": "code",
      "execution_count": null,
      "metadata": {
        "jupyter": {
          "outputs_hidden": false
        },
        "pycharm": {
          "name": "#%%\n"
        },
        "id": "5GHWLs6k2Agf",
        "colab": {
          "base_uri": "https://localhost:8080/"
        },
        "outputId": "494a7b1e-92c9-4b97-9626-004d6b31939b"
      },
      "outputs": [
        {
          "output_type": "stream",
          "name": "stdout",
          "text": [
            "Test accuracy on the 1000 test images: 95.0 %\n"
          ]
        }
      ],
      "source": [
        "#### ADD YOUR CODE HERE ####\n",
        "_, predicted = torch.max(output.data, 1)\n",
        "total += labs.size(0)\n",
        "correct += (predicted == labs).sum().item()\n",
        "\n",
        "print('Test accuracy on the {} test images: {} %'.format(1000, 100 * correct / total))\n"
      ]
    },
    {
      "cell_type": "markdown",
      "metadata": {
        "id": "btcmjqBQ2Agg"
      },
      "source": [
        "## Step 4: Finetune your classifier. (15 points)\n",
        "\n",
        "In the previous section, you have built a pretty good classifier for certain species of fish. Now we are going to use this trained classifier and adapt it to classify a new set of species:\n",
        "\n",
        "    'Hourse Mackerel\n",
        "    'Red Mullet',\n",
        "    'Red Sea Bream'\n",
        "    'Sea Bass'\n",
        "\n",
        "### Step 4.1: Set up the data for new species. (2 points)\n",
        "Overwrite the labels correspondances so they only incude the new classes and regenerate the datasets and dataloaders."
      ]
    },
    {
      "cell_type": "code",
      "execution_count": null,
      "metadata": {
        "jupyter": {
          "outputs_hidden": false
        },
        "pycharm": {
          "name": "#%%\n"
        },
        "id": "OZrPQsaZ2Agg",
        "colab": {
          "base_uri": "https://localhost:8080/"
        },
        "outputId": "ab28c98d-ed57-4690-ba41-4b298a5e4648"
      },
      "outputs": [
        {
          "output_type": "stream",
          "name": "stdout",
          "text": [
            "(3200,)\n",
            "(800,)\n"
          ]
        },
        {
          "output_type": "stream",
          "name": "stderr",
          "text": [
            "/usr/local/lib/python3.7/dist-packages/ipykernel_launcher.py:73: FutureWarning: The input object of type 'Tensor' is an array-like implementing one of the corresponding protocols (`__array__`, `__array_interface__` or `__array_struct__`); but not a sequence (or 0-D). In the future, this object will be coerced as if it was first converted using `np.array(obj)`. To retain the old behaviour, you have to either modify the type 'Tensor', or assign to an empty array created with `np.empty(correct_shape, dtype=object)`.\n",
            "/usr/local/lib/python3.7/dist-packages/ipykernel_launcher.py:73: VisibleDeprecationWarning: Creating an ndarray from ragged nested sequences (which is a list-or-tuple of lists-or-tuples-or ndarrays with different lengths or shapes) is deprecated. If you meant to do this, you must specify 'dtype=object' when creating the ndarray.\n"
          ]
        }
      ],
      "source": [
        "Multiclass_labels_correspondances ={\n",
        "    'Hourse Mackerel': 0,\n",
        "    'Red Mullet': 1,\n",
        "    'Red Sea Bream': 2,\n",
        "    'Sea Bass': 3}\n",
        "\n",
        "LENDATA = 4000\n",
        "idxs_train,idxs_test = split_train_test(LENDATA, 0.8)\n",
        "\n",
        "# Dataloaders\n",
        "#### ADD YOUR CODE HERE ####\n",
        "train_dataset = FishDataset(img_path, idxs_train, idxs_test, None, img_size=128, train=True)\n",
        "train_dataloader = torch.utils.data.DataLoader(train_dataset, train_batch_size, shuffle=True)\n",
        "test_dataset = FishDataset(img_path, idxs_train, idxs_test, None, img_size=128, train=False)\n",
        "test_dataloader = torch.utils.data.DataLoader(test_dataset, batch_size=64, shuffle=True)"
      ]
    },
    {
      "cell_type": "markdown",
      "metadata": {
        "id": "QqwNeQoN2Agh"
      },
      "source": [
        "### Step 4.2: Freeze the weights of all previous layers of the network except the last layer. (5 points)\n",
        "\n",
        "You can freeze them by setting the gradient requirements to ```False```."
      ]
    },
    {
      "cell_type": "code",
      "execution_count": null,
      "metadata": {
        "jupyter": {
          "outputs_hidden": false
        },
        "pycharm": {
          "name": "#%%\n"
        },
        "id": "OhsYIqdx2Agh"
      },
      "outputs": [],
      "source": [
        "def freeze_till_last(model):\n",
        "    for param in model.parameters():\n",
        "        param.requires_grad = False\n",
        "\n",
        "freeze_till_last(model)\n",
        "# Modify the last layer. This layer is not freezed.\n",
        "#### ADD YOUR CODE HERE ####\n",
        "\n",
        "# Loss function\n",
        "criterion = nn.CrossEntropyLoss()\n",
        "\n",
        "# Optimiser and learning rate\n",
        "lr = 0.0005\n",
        "optimizer = torch.optim.Adam(model.parameters(), lr)\n",
        "\n",
        "# Number of iterations for training\n",
        "epochs = 20\n",
        "\n",
        "# Training batch size\n",
        "train_batch_size = 64"
      ]
    },
    {
      "cell_type": "markdown",
      "metadata": {
        "id": "DITYmGOr2Agh"
      },
      "source": [
        "### Step 4.3: Train and test your finetuned model. (5 points)"
      ]
    },
    {
      "cell_type": "code",
      "execution_count": null,
      "metadata": {
        "jupyter": {
          "outputs_hidden": false
        },
        "pycharm": {
          "name": "#%%\n"
        },
        "id": "bmnQTWjZ2Agi",
        "colab": {
          "base_uri": "https://localhost:8080/",
          "height": 414
        },
        "outputId": "64660307-05a8-4bb0-b358-4aaa814acf22"
      },
      "outputs": [
        {
          "output_type": "stream",
          "name": "stderr",
          "text": [
            "  0%|          | 0/20 [00:00<?, ?it/s]\n"
          ]
        },
        {
          "output_type": "error",
          "ename": "RuntimeError",
          "evalue": "ignored",
          "traceback": [
            "\u001b[0;31m---------------------------------------------------------------------------\u001b[0m",
            "\u001b[0;31mRuntimeError\u001b[0m                              Traceback (most recent call last)",
            "\u001b[0;32m<ipython-input-250-41edd7f4659f>\u001b[0m in \u001b[0;36m<module>\u001b[0;34m()\u001b[0m\n\u001b[1;32m     17\u001b[0m         \u001b[0;31m#backward, optimise\u001b[0m\u001b[0;34m\u001b[0m\u001b[0;34m\u001b[0m\u001b[0;34m\u001b[0m\u001b[0m\n\u001b[1;32m     18\u001b[0m         \u001b[0moptimizer\u001b[0m\u001b[0;34m.\u001b[0m\u001b[0mzero_grad\u001b[0m\u001b[0;34m(\u001b[0m\u001b[0;34m)\u001b[0m\u001b[0;34m\u001b[0m\u001b[0;34m\u001b[0m\u001b[0m\n\u001b[0;32m---> 19\u001b[0;31m         \u001b[0mloss\u001b[0m\u001b[0;34m.\u001b[0m\u001b[0mbackward\u001b[0m\u001b[0;34m(\u001b[0m\u001b[0;34m)\u001b[0m\u001b[0;34m\u001b[0m\u001b[0;34m\u001b[0m\u001b[0m\n\u001b[0m\u001b[1;32m     20\u001b[0m         \u001b[0moptimizer\u001b[0m\u001b[0;34m.\u001b[0m\u001b[0mstep\u001b[0m\u001b[0;34m(\u001b[0m\u001b[0;34m)\u001b[0m\u001b[0;34m\u001b[0m\u001b[0;34m\u001b[0m\u001b[0m\n\u001b[1;32m     21\u001b[0m \u001b[0;34m\u001b[0m\u001b[0m\n",
            "\u001b[0;32m/usr/local/lib/python3.7/dist-packages/torch/_tensor.py\u001b[0m in \u001b[0;36mbackward\u001b[0;34m(self, gradient, retain_graph, create_graph, inputs)\u001b[0m\n\u001b[1;32m    305\u001b[0m                 \u001b[0mcreate_graph\u001b[0m\u001b[0;34m=\u001b[0m\u001b[0mcreate_graph\u001b[0m\u001b[0;34m,\u001b[0m\u001b[0;34m\u001b[0m\u001b[0;34m\u001b[0m\u001b[0m\n\u001b[1;32m    306\u001b[0m                 inputs=inputs)\n\u001b[0;32m--> 307\u001b[0;31m         \u001b[0mtorch\u001b[0m\u001b[0;34m.\u001b[0m\u001b[0mautograd\u001b[0m\u001b[0;34m.\u001b[0m\u001b[0mbackward\u001b[0m\u001b[0;34m(\u001b[0m\u001b[0mself\u001b[0m\u001b[0;34m,\u001b[0m \u001b[0mgradient\u001b[0m\u001b[0;34m,\u001b[0m \u001b[0mretain_graph\u001b[0m\u001b[0;34m,\u001b[0m \u001b[0mcreate_graph\u001b[0m\u001b[0;34m,\u001b[0m \u001b[0minputs\u001b[0m\u001b[0;34m=\u001b[0m\u001b[0minputs\u001b[0m\u001b[0;34m)\u001b[0m\u001b[0;34m\u001b[0m\u001b[0;34m\u001b[0m\u001b[0m\n\u001b[0m\u001b[1;32m    308\u001b[0m \u001b[0;34m\u001b[0m\u001b[0m\n\u001b[1;32m    309\u001b[0m     \u001b[0;32mdef\u001b[0m \u001b[0mregister_hook\u001b[0m\u001b[0;34m(\u001b[0m\u001b[0mself\u001b[0m\u001b[0;34m,\u001b[0m \u001b[0mhook\u001b[0m\u001b[0;34m)\u001b[0m\u001b[0;34m:\u001b[0m\u001b[0;34m\u001b[0m\u001b[0;34m\u001b[0m\u001b[0m\n",
            "\u001b[0;32m/usr/local/lib/python3.7/dist-packages/torch/autograd/__init__.py\u001b[0m in \u001b[0;36mbackward\u001b[0;34m(tensors, grad_tensors, retain_graph, create_graph, grad_variables, inputs)\u001b[0m\n\u001b[1;32m    154\u001b[0m     Variable._execution_engine.run_backward(\n\u001b[1;32m    155\u001b[0m         \u001b[0mtensors\u001b[0m\u001b[0;34m,\u001b[0m \u001b[0mgrad_tensors_\u001b[0m\u001b[0;34m,\u001b[0m \u001b[0mretain_graph\u001b[0m\u001b[0;34m,\u001b[0m \u001b[0mcreate_graph\u001b[0m\u001b[0;34m,\u001b[0m \u001b[0minputs\u001b[0m\u001b[0;34m,\u001b[0m\u001b[0;34m\u001b[0m\u001b[0;34m\u001b[0m\u001b[0m\n\u001b[0;32m--> 156\u001b[0;31m         allow_unreachable=True, accumulate_grad=True)  # allow_unreachable flag\n\u001b[0m\u001b[1;32m    157\u001b[0m \u001b[0;34m\u001b[0m\u001b[0m\n\u001b[1;32m    158\u001b[0m \u001b[0;34m\u001b[0m\u001b[0m\n",
            "\u001b[0;31mRuntimeError\u001b[0m: element 0 of tensors does not require grad and does not have a grad_fn"
          ]
        }
      ],
      "source": [
        "# Finetune the model\n",
        "for epoch in tqdm(range(epochs)):\n",
        "    #### ADD YOUR CODE HERE ####\n",
        "    model.train()\n",
        "    loss_curve = []\n",
        "    \n",
        "    for imgs, labs in train_dataloader:\n",
        "        # Get a batch of training data and train the model\n",
        "        #### ADD YOUR CODE HERE ####\n",
        "        imgs = imgs.to(device)\n",
        "        labs = labs.to(device)\n",
        "\n",
        "        #forward pass\n",
        "        output = model(imgs)\n",
        "        loss = criterion(output, labs)\n",
        "\n",
        "        #backward, optimise\n",
        "        optimizer.zero_grad()\n",
        "        loss.backward()\n",
        "        optimizer.step()\n",
        "       \n",
        "        loss_curve += [loss.item()]\n",
        "    print('--- Iteration {0}: training loss = {1:.4f} ---'.format(epoch + 1, np.array(loss_curve).mean()))\n",
        "\n",
        "\n",
        "# Deploy the model on the test set\n",
        "#### ADD YOUR CODE HERE ####\n",
        "with torch.no_grad():\n",
        "    correct = 0\n",
        "    total = 0\n",
        "    for imgs, labs in test_dataloader:\n",
        "        imgs = imgs.to(device)\n",
        "        labs = labs.to(device)\n",
        "        output = model(imgs)\n",
        "        optimizer.zero_grad()\n",
        "        loss = criterion(output, labs)\n",
        "\n",
        "# Evaluate the performance\n",
        "#### ADD YOUR CODE HERE ####\n",
        "_, predict = torch.max(output.data, 1)\n",
        "total += labs.size(0)\n",
        "correct += (predict == labs).sum().item()\n",
        "\n",
        "print('Finetuned Test accuracy on the {} test images: {} %'.format(800, 100 * correct / total))"
      ]
    },
    {
      "cell_type": "markdown",
      "metadata": {
        "id": "NqLoGuam2Agi"
      },
      "source": [
        "### Step 4.4: Did finetuning work? Why did we freeze the first few layers? (3 points)"
      ]
    },
    {
      "cell_type": "markdown",
      "metadata": {
        "id": "LOtKK4Eg2Agi"
      },
      "source": [
        "#### ADD YOUR RESPONSE HERE ####"
      ]
    },
    {
      "cell_type": "code",
      "execution_count": null,
      "metadata": {
        "id": "tCq1iW1O2Agi",
        "colab": {
          "base_uri": "https://localhost:8080/",
          "height": 1000
        },
        "outputId": "68671a45-9224-4378-818b-614059c87b8f"
      },
      "outputs": [
        {
          "output_type": "stream",
          "name": "stdout",
          "text": [
            "File ‘colab_pdf.py’ already there; not retrieving.\n",
            "\n",
            "Mounted at /content/drive/\n",
            "\n",
            "WARNING: apt does not have a stable CLI interface. Use with caution in scripts.\n",
            "\n",
            "\n",
            "WARNING: apt does not have a stable CLI interface. Use with caution in scripts.\n",
            "\n",
            "Extracting templates from packages: 100%\n",
            "[NbConvertApp] Converting notebook /content/drive/MyDrive/Colab Notebooks/temp_coursework_02.ipynb to pdf\n",
            "[NbConvertApp] Support files will be in temp_coursework_02_files/\n",
            "[NbConvertApp] Making directory ./temp_coursework_02_files\n",
            "[NbConvertApp] Making directory ./temp_coursework_02_files\n",
            "[NbConvertApp] Writing 73544 bytes to ./notebook.tex\n",
            "[NbConvertApp] Building PDF\n",
            "[NbConvertApp] Running xelatex 3 times: [u'xelatex', u'./notebook.tex', '-quiet']\n",
            "[NbConvertApp] CRITICAL | xelatex failed: [u'xelatex', u'./notebook.tex', '-quiet']\n",
            "This is XeTeX, Version 3.14159265-2.6-0.99998 (TeX Live 2017/Debian) (preloaded format=xelatex)\n",
            " restricted \\write18 enabled.\n",
            "entering extended mode\n",
            "(./notebook.tex\n",
            "LaTeX2e <2017-04-15>\n",
            "Babel <3.18> and hyphenation patterns for 3 language(s) loaded.\n",
            "(/usr/share/texlive/texmf-dist/tex/latex/base/article.cls\n",
            "Document Class: article 2014/09/29 v1.4h Standard LaTeX document class\n",
            "(/usr/share/texlive/texmf-dist/tex/latex/base/size11.clo))\n",
            "(/usr/share/texlive/texmf-dist/tex/latex/tcolorbox/tcolorbox.sty\n",
            "(/usr/share/texlive/texmf-dist/tex/latex/pgf/basiclayer/pgf.sty\n",
            "(/usr/share/texlive/texmf-dist/tex/latex/pgf/utilities/pgfrcs.sty\n",
            "(/usr/share/texlive/texmf-dist/tex/generic/pgf/utilities/pgfutil-common.tex\n",
            "(/usr/share/texlive/texmf-dist/tex/generic/pgf/utilities/pgfutil-common-lists.t\n",
            "ex)) (/usr/share/texlive/texmf-dist/tex/generic/pgf/utilities/pgfutil-latex.def\n",
            "(/usr/share/texlive/texmf-dist/tex/latex/ms/everyshi.sty))\n",
            "(/usr/share/texlive/texmf-dist/tex/generic/pgf/utilities/pgfrcs.code.tex))\n",
            "(/usr/share/texlive/texmf-dist/tex/latex/pgf/basiclayer/pgfcore.sty\n",
            "(/usr/share/texlive/texmf-dist/tex/latex/graphics/graphicx.sty\n",
            "(/usr/share/texlive/texmf-dist/tex/latex/graphics/keyval.sty)\n",
            "(/usr/share/texlive/texmf-dist/tex/latex/graphics/graphics.sty\n",
            "(/usr/share/texlive/texmf-dist/tex/latex/graphics/trig.sty)\n",
            "(/usr/share/texlive/texmf-dist/tex/latex/graphics-cfg/graphics.cfg)\n",
            "(/usr/share/texlive/texmf-dist/tex/latex/graphics-def/xetex.def)))\n",
            "(/usr/share/texlive/texmf-dist/tex/latex/pgf/systemlayer/pgfsys.sty\n",
            "(/usr/share/texlive/texmf-dist/tex/generic/pgf/systemlayer/pgfsys.code.tex\n",
            "(/usr/share/texlive/texmf-dist/tex/generic/pgf/utilities/pgfkeys.code.tex\n",
            "(/usr/share/texlive/texmf-dist/tex/generic/pgf/utilities/pgfkeysfiltered.code.t\n",
            "ex)) (/usr/share/texlive/texmf-dist/tex/generic/pgf/systemlayer/pgf.cfg)\n",
            "(/usr/share/texlive/texmf-dist/tex/generic/pgf/systemlayer/pgfsys-xetex.def\n",
            "(/usr/share/texlive/texmf-dist/tex/generic/pgf/systemlayer/pgfsys-dvipdfmx.def\n",
            "(/usr/share/texlive/texmf-dist/tex/generic/pgf/systemlayer/pgfsys-common-pdf.de\n",
            "f))))\n",
            "(/usr/share/texlive/texmf-dist/tex/generic/pgf/systemlayer/pgfsyssoftpath.code.\n",
            "tex)\n",
            "(/usr/share/texlive/texmf-dist/tex/generic/pgf/systemlayer/pgfsysprotocol.code.\n",
            "tex)) (/usr/share/texlive/texmf-dist/tex/latex/xcolor/xcolor.sty\n",
            "(/usr/share/texlive/texmf-dist/tex/latex/graphics-cfg/color.cfg))\n",
            "(/usr/share/texlive/texmf-dist/tex/generic/pgf/basiclayer/pgfcore.code.tex\n",
            "(/usr/share/texlive/texmf-dist/tex/generic/pgf/math/pgfmath.code.tex\n",
            "(/usr/share/texlive/texmf-dist/tex/generic/pgf/math/pgfmathcalc.code.tex\n",
            "(/usr/share/texlive/texmf-dist/tex/generic/pgf/math/pgfmathutil.code.tex)\n",
            "(/usr/share/texlive/texmf-dist/tex/generic/pgf/math/pgfmathparser.code.tex)\n",
            "(/usr/share/texlive/texmf-dist/tex/generic/pgf/math/pgfmathfunctions.code.tex\n",
            "(/usr/share/texlive/texmf-dist/tex/generic/pgf/math/pgfmathfunctions.basic.code\n",
            ".tex)\n",
            "(/usr/share/texlive/texmf-dist/tex/generic/pgf/math/pgfmathfunctions.trigonomet\n",
            "ric.code.tex)\n",
            "(/usr/share/texlive/texmf-dist/tex/generic/pgf/math/pgfmathfunctions.random.cod\n",
            "e.tex)\n",
            "(/usr/share/texlive/texmf-dist/tex/generic/pgf/math/pgfmathfunctions.comparison\n",
            ".code.tex)\n",
            "(/usr/share/texlive/texmf-dist/tex/generic/pgf/math/pgfmathfunctions.base.code.\n",
            "tex)\n",
            "(/usr/share/texlive/texmf-dist/tex/generic/pgf/math/pgfmathfunctions.round.code\n",
            ".tex)\n",
            "(/usr/share/texlive/texmf-dist/tex/generic/pgf/math/pgfmathfunctions.misc.code.\n",
            "tex)\n",
            "(/usr/share/texlive/texmf-dist/tex/generic/pgf/math/pgfmathfunctions.integerari\n",
            "thmetics.code.tex)))\n",
            "(/usr/share/texlive/texmf-dist/tex/generic/pgf/math/pgfmathfloat.code.tex))\n",
            "(/usr/share/texlive/texmf-dist/tex/generic/pgf/basiclayer/pgfcorepoints.code.te\n",
            "x)\n",
            "(/usr/share/texlive/texmf-dist/tex/generic/pgf/basiclayer/pgfcorepathconstruct.\n",
            "code.tex)\n",
            "(/usr/share/texlive/texmf-dist/tex/generic/pgf/basiclayer/pgfcorepathusage.code\n",
            ".tex)\n",
            "(/usr/share/texlive/texmf-dist/tex/generic/pgf/basiclayer/pgfcorescopes.code.te\n",
            "x)\n",
            "(/usr/share/texlive/texmf-dist/tex/generic/pgf/basiclayer/pgfcoregraphicstate.c\n",
            "ode.tex)\n",
            "(/usr/share/texlive/texmf-dist/tex/generic/pgf/basiclayer/pgfcoretransformation\n",
            "s.code.tex)\n",
            "(/usr/share/texlive/texmf-dist/tex/generic/pgf/basiclayer/pgfcorequick.code.tex\n",
            ")\n",
            "(/usr/share/texlive/texmf-dist/tex/generic/pgf/basiclayer/pgfcoreobjects.code.t\n",
            "ex)\n",
            "(/usr/share/texlive/texmf-dist/tex/generic/pgf/basiclayer/pgfcorepathprocessing\n",
            ".code.tex)\n",
            "(/usr/share/texlive/texmf-dist/tex/generic/pgf/basiclayer/pgfcorearrows.code.te\n",
            "x)\n",
            "(/usr/share/texlive/texmf-dist/tex/generic/pgf/basiclayer/pgfcoreshade.code.tex\n",
            ")\n",
            "(/usr/share/texlive/texmf-dist/tex/generic/pgf/basiclayer/pgfcoreimage.code.tex\n",
            "\n",
            "(/usr/share/texlive/texmf-dist/tex/generic/pgf/basiclayer/pgfcoreexternal.code.\n",
            "tex))\n",
            "(/usr/share/texlive/texmf-dist/tex/generic/pgf/basiclayer/pgfcorelayers.code.te\n",
            "x)\n",
            "(/usr/share/texlive/texmf-dist/tex/generic/pgf/basiclayer/pgfcoretransparency.c\n",
            "ode.tex)\n",
            "(/usr/share/texlive/texmf-dist/tex/generic/pgf/basiclayer/pgfcorepatterns.code.\n",
            "tex)))\n",
            "(/usr/share/texlive/texmf-dist/tex/generic/pgf/modules/pgfmoduleshapes.code.tex\n",
            ") (/usr/share/texlive/texmf-dist/tex/generic/pgf/modules/pgfmoduleplot.code.tex\n",
            ")\n",
            "(/usr/share/texlive/texmf-dist/tex/latex/pgf/compatibility/pgfcomp-version-0-65\n",
            ".sty)\n",
            "(/usr/share/texlive/texmf-dist/tex/latex/pgf/compatibility/pgfcomp-version-1-18\n",
            ".sty)) (/usr/share/texlive/texmf-dist/tex/latex/tools/verbatim.sty)\n",
            "(/usr/share/texlive/texmf-dist/tex/latex/environ/environ.sty\n",
            "(/usr/share/texlive/texmf-dist/tex/latex/trimspaces/trimspaces.sty))\n",
            "(/usr/share/texlive/texmf-dist/tex/latex/etoolbox/etoolbox.sty)\n",
            "(/usr/share/texlive/texmf-dist/tex/latex/tcolorbox/tcbbreakable.code.tex\n",
            "Library (tcolorbox): 'tcbbreakable.code.tex' version '4.12'\n",
            ")) (/usr/share/texlive/texmf-dist/tex/latex/float/float.sty)\n",
            "(/usr/share/texlive/texmf-dist/tex/latex/base/fontenc.sty\n",
            "(/usr/share/texlive/texmf-dist/tex/latex/base/t1enc.def)\n",
            "(/usr/share/texmf/tex/latex/lm/t1lmr.fd))\n",
            "(/usr/share/texlive/texmf-dist/tex/latex/psnfss/mathpazo.sty)\n",
            "(/usr/share/texlive/texmf-dist/tex/latex/caption/caption.sty\n",
            "(/usr/share/texlive/texmf-dist/tex/latex/caption/caption3.sty))\n",
            "(/usr/share/texlive/texmf-dist/tex/latex/adjustbox/adjustbox.sty\n",
            "(/usr/share/texlive/texmf-dist/tex/latex/xkeyval/xkeyval.sty\n",
            "(/usr/share/texlive/texmf-dist/tex/generic/xkeyval/xkeyval.tex\n",
            "(/usr/share/texlive/texmf-dist/tex/generic/xkeyval/xkvutils.tex)))\n",
            "(/usr/share/texlive/texmf-dist/tex/latex/adjustbox/adjcalc.sty)\n",
            "(/usr/share/texlive/texmf-dist/tex/latex/adjustbox/trimclip.sty\n",
            "(/usr/share/texlive/texmf-dist/tex/latex/collectbox/collectbox.sty)\n",
            "(/usr/share/texlive/texmf-dist/tex/latex/adjustbox/tc-xetex.def))\n",
            "(/usr/share/texlive/texmf-dist/tex/latex/ifoddpage/ifoddpage.sty)\n",
            "(/usr/share/texlive/texmf-dist/tex/latex/varwidth/varwidth.sty))\n",
            "(/usr/share/texlive/texmf-dist/tex/latex/tools/enumerate.sty)\n",
            "(/usr/share/texlive/texmf-dist/tex/latex/geometry/geometry.sty\n",
            "(/usr/share/texlive/texmf-dist/tex/generic/oberdiek/ifpdf.sty)\n",
            "(/usr/share/texlive/texmf-dist/tex/generic/oberdiek/ifvtex.sty)\n",
            "(/usr/share/texlive/texmf-dist/tex/generic/ifxetex/ifxetex.sty))\n",
            "(/usr/share/texlive/texmf-dist/tex/latex/amsmath/amsmath.sty\n",
            "For additional information on amsmath, use the `?' option.\n",
            "(/usr/share/texlive/texmf-dist/tex/latex/amsmath/amstext.sty\n",
            "(/usr/share/texlive/texmf-dist/tex/latex/amsmath/amsgen.sty))\n",
            "(/usr/share/texlive/texmf-dist/tex/latex/amsmath/amsbsy.sty)\n",
            "(/usr/share/texlive/texmf-dist/tex/latex/amsmath/amsopn.sty))\n",
            "(/usr/share/texlive/texmf-dist/tex/latex/amsfonts/amssymb.sty\n",
            "(/usr/share/texlive/texmf-dist/tex/latex/amsfonts/amsfonts.sty))\n",
            "(/usr/share/texlive/texmf-dist/tex/latex/base/textcomp.sty\n",
            "(/usr/share/texlive/texmf-dist/tex/latex/base/ts1enc.def))\n",
            "(/usr/share/texlive/texmf-dist/tex/latex/upquote/upquote.sty)\n",
            "(/usr/share/texlive/texmf-dist/tex/latex/eurosym/eurosym.sty)\n",
            "(/usr/share/texlive/texmf-dist/tex/latex/ucs/ucs.sty\n",
            "(/usr/share/texlive/texmf-dist/tex/latex/ucs/data/uni-global.def))\n",
            "(/usr/share/texlive/texmf-dist/tex/latex/base/inputenc.sty\n",
            "\n",
            "Package inputenc Warning: inputenc package ignored with utf8 based engines.\n",
            "\n",
            ") (/usr/share/texlive/texmf-dist/tex/latex/fancyvrb/fancyvrb.sty\n",
            "Style option: `fancyvrb' v2.7a, with DG/SPQR fixes, and firstline=lastline fix \n",
            "<2008/02/07> (tvz))\n",
            "(/usr/share/texlive/texmf-dist/tex/latex/oberdiek/grffile.sty\n",
            "(/usr/share/texlive/texmf-dist/tex/latex/oberdiek/kvoptions.sty\n",
            "(/usr/share/texlive/texmf-dist/tex/generic/oberdiek/ltxcmds.sty)\n",
            "(/usr/share/texlive/texmf-dist/tex/generic/oberdiek/kvsetkeys.sty\n",
            "(/usr/share/texlive/texmf-dist/tex/generic/oberdiek/infwarerr.sty)\n",
            "(/usr/share/texlive/texmf-dist/tex/generic/oberdiek/etexcmds.sty\n",
            "(/usr/share/texlive/texmf-dist/tex/generic/oberdiek/ifluatex.sty))))\n",
            "(/usr/share/texlive/texmf-dist/tex/generic/oberdiek/pdftexcmds.sty))\n",
            "(/usr/share/texlive/texmf-dist/tex/latex/hyperref/hyperref.sty\n",
            "(/usr/share/texlive/texmf-dist/tex/generic/oberdiek/hobsub-hyperref.sty\n",
            "(/usr/share/texlive/texmf-dist/tex/generic/oberdiek/hobsub-generic.sty))\n",
            "(/usr/share/texlive/texmf-dist/tex/latex/oberdiek/auxhook.sty)\n",
            "(/usr/share/texlive/texmf-dist/tex/latex/hyperref/pd1enc.def)\n",
            "(/usr/share/texlive/texmf-dist/tex/latex/latexconfig/hyperref.cfg)\n",
            "(/usr/share/texlive/texmf-dist/tex/latex/url/url.sty))\n",
            "(/usr/share/texlive/texmf-dist/tex/latex/hyperref/hxetex.def\n",
            "(/usr/share/texlive/texmf-dist/tex/latex/hyperref/puenc.def)\n",
            "(/usr/share/texlive/texmf-dist/tex/generic/oberdiek/stringenc.sty)\n",
            "(/usr/share/texlive/texmf-dist/tex/latex/oberdiek/rerunfilecheck.sty))\n",
            "(/usr/share/texlive/texmf-dist/tex/latex/tools/longtable.sty)\n",
            "(/usr/share/texlive/texmf-dist/tex/latex/booktabs/booktabs.sty)\n",
            "(/usr/share/texlive/texmf-dist/tex/latex/enumitem/enumitem.sty)\n",
            "(/usr/share/texlive/texmf-dist/tex/generic/ulem/ulem.sty)\n",
            "(/usr/share/texlive/texmf-dist/tex/latex/jknapltx/mathrsfs.sty)\n",
            "No file notebook.aux.\n",
            "(/usr/share/texlive/texmf-dist/tex/latex/base/ts1cmr.fd)\n",
            "(/usr/share/texlive/texmf-dist/tex/latex/psnfss/t1ppl.fd)\n",
            "ABD: EveryShipout initializing macros\n",
            "(/usr/share/texlive/texmf-dist/tex/latex/caption/ltcaption.sty)\n",
            "*geometry* driver: auto-detecting\n",
            "*geometry* detected driver: xetex\n",
            "*geometry* verbose mode - [ preamble ] result:\n",
            "* driver: xetex\n",
            "* paper: <default>\n",
            "* layout: <same size as paper>\n",
            "* layoutoffset:(h,v)=(0.0pt,0.0pt)\n",
            "* modes: \n",
            "* h-part:(L,W,R)=(72.26999pt, 469.75502pt, 72.26999pt)\n",
            "* v-part:(T,H,B)=(72.26999pt, 650.43001pt, 72.26999pt)\n",
            "* \\paperwidth=614.295pt\n",
            "* \\paperheight=794.96999pt\n",
            "* \\textwidth=469.75502pt\n",
            "* \\textheight=650.43001pt\n",
            "* \\oddsidemargin=0.0pt\n",
            "* \\evensidemargin=0.0pt\n",
            "* \\topmargin=-37.0pt\n",
            "* \\headheight=12.0pt\n",
            "* \\headsep=25.0pt\n",
            "* \\topskip=11.0pt\n",
            "* \\footskip=30.0pt\n",
            "* \\marginparwidth=59.0pt\n",
            "* \\marginparsep=10.0pt\n",
            "* \\columnsep=10.0pt\n",
            "* \\skip\\footins=10.0pt plus 4.0pt minus 2.0pt\n",
            "* \\hoffset=0.0pt\n",
            "* \\voffset=0.0pt\n",
            "* \\mag=1000\n",
            "* \\@twocolumnfalse\n",
            "* \\@twosidefalse\n",
            "* \\@mparswitchfalse\n",
            "* \\@reversemarginfalse\n",
            "* (1in=72.27pt=25.4mm, 1cm=28.453pt)\n",
            "\n",
            "(/usr/share/texlive/texmf-dist/tex/latex/ucs/ucsencs.def)\n",
            "(/usr/share/texlive/texmf-dist/tex/latex/hyperref/nameref.sty\n",
            "(/usr/share/texlive/texmf-dist/tex/generic/oberdiek/gettitlestring.sty))\n",
            "\n",
            "Package hyperref Warning: Rerun to get /PageLabels entry.\n",
            "\n",
            "(/usr/share/texlive/texmf-dist/tex/latex/psnfss/ot1ppl.fd)\n",
            "(/usr/share/texlive/texmf-dist/tex/latex/psnfss/omlzplm.fd)\n",
            "(/usr/share/texlive/texmf-dist/tex/latex/psnfss/omszplm.fd)\n",
            "(/usr/share/texlive/texmf-dist/tex/latex/psnfss/omxzplm.fd)\n",
            "(/usr/share/texlive/texmf-dist/tex/latex/psnfss/ot1zplm.fd)\n",
            "(/usr/share/texlive/texmf-dist/tex/latex/jknapltx/ursfs.fd)\n",
            "\n",
            "LaTeX Warning: No \\author given.\n",
            "\n",
            "(/usr/share/texlive/texmf-dist/tex/generic/oberdiek/se-ascii-print.def)\n",
            "(/usr/share/texlive/texmf-dist/tex/latex/psnfss/ts1ppl.fd)\n",
            "(/usr/share/texmf/tex/latex/lm/t1lmtt.fd) [1]\n",
            "(/usr/share/texmf/tex/latex/lm/ts1lmtt.fd) [2] [3] [4] [5] [6]\n",
            "Underfull \\hbox (badness 10000) in paragraph at lines 727--728\n",
            "\n",
            "[7]\n",
            "Underfull \\hbox (badness 10000) in paragraph at lines 736--737\n",
            "\n",
            "[8] [9] [10]\n",
            "! FancyVerb Error:\n",
            "  Empty verbatim environment\n",
            ".\n",
            "\\FV@Error ...ncyVerb Error:^^J\\space \\space #1^^J}\n",
            "                                                  \n",
            "l.936 ...20 [00:38<12:02, 38.04s/it]\\end{Verbatim}\n",
            "                                                  \n",
            "? \n",
            "! Emergency stop.\n",
            "\\FV@Error ...ncyVerb Error:^^J\\space \\space #1^^J}\n",
            "                                                  \n",
            "l.936 ...20 [00:38<12:02, 38.04s/it]\\end{Verbatim}\n",
            "                                                  \n",
            "Output written on notebook.pdf (10 pages).\n",
            "Transcript written on notebook.log.\n",
            "\n",
            "[NbConvertApp] PDF successfully created\n",
            "[NbConvertApp] Writing 154817 bytes to /content/drive/My Drive/temp_coursework_02.pdf\n"
          ]
        },
        {
          "output_type": "display_data",
          "data": {
            "application/javascript": [
              "\n",
              "    async function download(id, filename, size) {\n",
              "      if (!google.colab.kernel.accessAllowed) {\n",
              "        return;\n",
              "      }\n",
              "      const div = document.createElement('div');\n",
              "      const label = document.createElement('label');\n",
              "      label.textContent = `Downloading \"${filename}\": `;\n",
              "      div.appendChild(label);\n",
              "      const progress = document.createElement('progress');\n",
              "      progress.max = size;\n",
              "      div.appendChild(progress);\n",
              "      document.body.appendChild(div);\n",
              "\n",
              "      const buffers = [];\n",
              "      let downloaded = 0;\n",
              "\n",
              "      const channel = await google.colab.kernel.comms.open(id);\n",
              "      // Send a message to notify the kernel that we're ready.\n",
              "      channel.send({})\n",
              "\n",
              "      for await (const message of channel.messages) {\n",
              "        // Send a message to notify the kernel that we're ready.\n",
              "        channel.send({})\n",
              "        if (message.buffers) {\n",
              "          for (const buffer of message.buffers) {\n",
              "            buffers.push(buffer);\n",
              "            downloaded += buffer.byteLength;\n",
              "            progress.value = downloaded;\n",
              "          }\n",
              "        }\n",
              "      }\n",
              "      const blob = new Blob(buffers, {type: 'application/binary'});\n",
              "      const a = document.createElement('a');\n",
              "      a.href = window.URL.createObjectURL(blob);\n",
              "      a.download = filename;\n",
              "      div.appendChild(a);\n",
              "      a.click();\n",
              "      div.remove();\n",
              "    }\n",
              "  "
            ],
            "text/plain": [
              "<IPython.core.display.Javascript object>"
            ]
          },
          "metadata": {}
        },
        {
          "output_type": "display_data",
          "data": {
            "application/javascript": [
              "download(\"download_ef171b79-190c-4d85-9167-53d7610cb83f\", \"temp_coursework_02.pdf\", 154817)"
            ],
            "text/plain": [
              "<IPython.core.display.Javascript object>"
            ]
          },
          "metadata": {}
        },
        {
          "output_type": "execute_result",
          "data": {
            "application/vnd.google.colaboratory.intrinsic+json": {
              "type": "string"
            },
            "text/plain": [
              "'File ready to be Downloaded and Saved to Drive'"
            ]
          },
          "metadata": {},
          "execution_count": 2
        }
      ],
      "source": [
        "!wget -nc https://raw.githubusercontent.com/brpy/colab-pdf/master/colab_pdf.py\n",
        "from colab_pdf import colab_pdf\n",
        "colab_pdf('temp_coursework_02.ipynb')"
      ]
    }
  ],
  "metadata": {
    "kernelspec": {
      "display_name": "Python 3",
      "language": "python",
      "name": "python3"
    },
    "language_info": {
      "codemirror_mode": {
        "name": "ipython",
        "version": 3
      },
      "file_extension": ".py",
      "mimetype": "text/x-python",
      "name": "python",
      "nbconvert_exporter": "python",
      "pygments_lexer": "ipython3",
      "version": "3.8.10"
    },
    "colab": {
      "name": "coursework_02_Fish_Classification.ipynb",
      "provenance": [],
      "collapsed_sections": []
    }
  },
  "nbformat": 4,
  "nbformat_minor": 0
}